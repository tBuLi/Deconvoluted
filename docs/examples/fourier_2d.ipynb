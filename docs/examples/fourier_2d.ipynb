{
  "cells": [
    {
      "cell_type": "markdown",
      "source": "# 2D Fourier transform\n",
      "metadata": {
        "pycharm": {
          "metadata": false,
          "name": "#%% md\n"
        }
      }
    },
    {
      "cell_type": "code",
      "execution_count": 1,
      "outputs": [],
      "source": "import numpy as np\nimport matplotlib.pyplot as plt\n\nfrom deconvoluted import fourier_transform\n",
      "metadata": {
        "pycharm": {
          "metadata": false,
          "name": "#%%\n",
          "is_executing": false
        }
      }
    },
    {
      "cell_type": "markdown",
      "source": "Suppose we want to compute the 2D fourier transform $F(p, q)$ of a \nfunction $f(x, y)$. Let us generate some data which has a frequency of $0.2$ Hz \nin the $x$ direction, and $0.1$ Hz in the $y$ direction:",
      "metadata": {
        "pycharm": {
          "metadata": false,
          "name": "#%% md\n"
        }
      }
    },
    {
      "cell_type": "code",
      "execution_count": 2,
      "metadata": {
        "collapsed": true,
        "pycharm": {
          "is_executing": false
        }
      },
      "outputs": [
        {
          "data": {
            "text/plain": "\u003cFigure size 432x288 with 1 Axes\u003e",
            "image/png": "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\u003d\u003d\n"
          },
          "metadata": {
            "needs_background": "light"
          },
          "output_type": "display_data"
        }
      ],
      "source": "x \u003d np.linspace(-20, 20, 41)\ny \u003d np.linspace(-10, 10, 21)\nX, Y \u003d np.meshgrid(x, y)\nf_xy \u003d np.sin(0.2 * 2 * np.pi * X + 0.1 * 2 * np.pi * Y)\n\nplt.imshow(f_xy, extent\u003d(x.min(), x.max(), y.min(), y.max()))\nplt.show()\n"
    },
    {
      "cell_type": "markdown",
      "source": "Taken the transform is now simply a matter of calling `fourier_transform`: ",
      "metadata": {
        "pycharm": {
          "metadata": false,
          "name": "#%% md\n"
        }
      }
    },
    {
      "cell_type": "code",
      "execution_count": 3,
      "outputs": [],
      "source": "F_pq, p, q \u003d fourier_transform(f_xy, x, y)\n",
      "metadata": {
        "pycharm": {
          "metadata": false,
          "name": "#%%\n",
          "is_executing": false
        }
      }
    },
    {
      "cell_type": "code",
      "execution_count": 5,
      "outputs": [
        {
          "data": {
            "text/plain": "\u003cFigure size 432x288 with 1 Axes\u003e",
            "image/png": "[encoded data removed]"
          },
          "metadata": {
            "needs_background": "light"
          },
          "output_type": "display_data"
        }
      ],
      "source": "plt.imshow(F_pq.real, extent\u003d(p.min(), p.max(), q.min(), q.max()))\nplt.show()\n",
      "metadata": {
        "pycharm": {
          "metadata": false,
          "name": "#%%\n",
          "is_executing": false
        }
      }
    },
    {
      "cell_type": "markdown",
      "source": "We see two resonances, exactly where we would expect them!",
      "metadata": {
        "pycharm": {
          "metadata": false,
          "name": "#%% md\n"
        }
      }
    }
  ],
  "metadata": {
    "language_info": {
      "codemirror_mode": {
        "name": "ipython",
        "version": 2
      },
      "file_extension": ".py",
      "mimetype": "text/x-python",
      "name": "python",
      "nbconvert_exporter": "python",
      "pygments_lexer": "ipython2",
      "version": "2.7.6"
    },
    "kernelspec": {
      "name": "python3",
      "language": "python",
      "display_name": "Python 3"
    },
    "stem_cell": {
      "cell_type": "raw",
      "source": "",
      "metadata": {
        "pycharm": {
          "metadata": false
        }
      }
    }
  },
  "nbformat": 4,
  "nbformat_minor": 0
}